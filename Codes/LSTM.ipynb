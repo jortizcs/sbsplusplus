{
 "cells": [
  {
   "cell_type": "code",
   "execution_count": 47,
   "metadata": {},
   "outputs": [],
   "source": [
    "import matplotlib.pyplot as plt\n",
    "import numpy as np\n",
    "import time\n",
    "import csv\n",
    "from keras.models import Sequential\n",
    "from keras.layers.core import Dense, Activation, Dropout\n",
    "from keras.layers.recurrent import LSTM"
   ]
  },
  {
   "cell_type": "code",
   "execution_count": 10,
   "metadata": {},
   "outputs": [],
   "source": [
    "path_to_dataset='/Users/wuxiaodong/Desktop/18fall/SpecialProblem/Rice/1st Floor Avg Space Humidity.csv'\n",
    "sequence_length=20\n",
    "max_values = 1343"
   ]
  },
  {
   "cell_type": "code",
   "execution_count": 11,
   "metadata": {},
   "outputs": [],
   "source": [
    "    with open(path_to_dataset) as f:\n",
    "        data = csv.reader(f)\n",
    "        bike = []\n",
    "        nb_of_values = 0\n",
    "        for line in data:\n",
    "            try:\n",
    "                bike.append(float(line[1]))\n",
    "                nb_of_values +=1\n",
    "            except ValueError:\n",
    "                pass\n",
    "            if nb_of_values >= max_values:\n",
    "                break"
   ]
  },
  {
   "cell_type": "code",
   "execution_count": 14,
   "metadata": {},
   "outputs": [],
   "source": [
    "result = []\n",
    "for index in range(len(bike) - sequence_length):\n",
    "    result.append(bike[index: index + sequence_length])\n",
    "result = np.array(result)"
   ]
  },
  {
   "cell_type": "code",
   "execution_count": 19,
   "metadata": {},
   "outputs": [
    {
     "name": "stdout",
     "output_type": "stream",
     "text": [
      "('Shift : ', 43.637386945405886)\n",
      "('Data : ', (1323, 20))\n"
     ]
    }
   ],
   "source": [
    "# normalize data\n",
    "result_mean = result.mean()\n",
    "result -= result_mean        \n",
    "print(\"Shift : \", result_mean)\n",
    "print(\"Data : \",result.shape)\n"
   ]
  },
  {
   "cell_type": "code",
   "execution_count": 28,
   "metadata": {},
   "outputs": [
    {
     "data": {
      "text/plain": [
       "array([[ 1.15955672,  1.15955672,  0.38611922, ..., -1.75607362,\n",
       "        -0.15607133, -0.15607133],\n",
       "       [-0.94044557, -0.40763536, -0.40763536, ..., -0.63888231,\n",
       "        -0.63888231,  0.41736922],\n",
       "       [-0.04356828, -0.04356828,  0.03299269, ..., -0.00606599,\n",
       "        -0.79513612, -0.79513612],\n",
       "       ...,\n",
       "       [-0.6060721 , -0.01231828, -0.01231828, ..., -0.62951341,\n",
       "        -0.62951341,  0.18455062],\n",
       "       [-2.24982515, -2.17638841, -2.17638841, ...,  0.18611464,\n",
       "         0.18611464, -0.15294328],\n",
       "       [ 2.61893782,  2.61893782, -0.17482057, ...,  2.4923738 ,\n",
       "        -0.15763536, -0.15763536]])"
      ]
     },
     "execution_count": 28,
     "metadata": {},
     "output_type": "execute_result"
    }
   ],
   "source": [
    "row = int(round(0.9 * result.shape[0]))\n",
    "train = result[:row, :]\n",
    "train"
   ]
  },
  {
   "cell_type": "code",
   "execution_count": 29,
   "metadata": {},
   "outputs": [
    {
     "data": {
      "text/plain": [
       "array([[-0.29669633, -2.56232515, -2.56232515, ..., -2.61857667,\n",
       "        -2.61857667, -0.02794328],\n",
       "       [ 1.35018477,  1.35018477,  0.42986617, ...,  1.21893248,\n",
       "         2.11268553,  2.11268553],\n",
       "       [ 0.24861846, -1.37638536, -1.37638536, ...,  0.47518096,\n",
       "         0.47518096,  0.39393172],\n",
       "       ...,\n",
       "       [-0.59825578, -0.59825578, -0.94825425, ...,  0.08299575,\n",
       "         0.58455977,  0.58455977],\n",
       "       [-0.07013383, -0.07013383, -0.07169786, ..., -0.15919557,\n",
       "        -0.19044557, -0.19044557],\n",
       "       [-1.31388536, -1.30450883, -1.30450883, ...,  2.23768553,\n",
       "         2.23768553, -1.18263688]])"
      ]
     },
     "execution_count": 29,
     "metadata": {},
     "output_type": "execute_result"
    }
   ],
   "source": [
    "np.random.shuffle(train)\n",
    "train\n"
   ]
  },
  {
   "cell_type": "code",
   "execution_count": 30,
   "metadata": {},
   "outputs": [],
   "source": [
    "X_train = train[:, :-1]\n",
    "y_train = train[:, -1]\n",
    "X_test = result[row:, :-1]\n",
    "y_test = result[row:, -1]"
   ]
  },
  {
   "cell_type": "code",
   "execution_count": 31,
   "metadata": {},
   "outputs": [
    {
     "data": {
      "text/plain": [
       "array([[-0.29669633, -2.56232515, -2.56232515, ...,  2.78612456,\n",
       "        -2.61857667, -2.61857667],\n",
       "       [ 1.35018477,  1.35018477,  0.42986617, ...,  1.21893248,\n",
       "         1.21893248,  2.11268553],\n",
       "       [ 0.24861846, -1.37638536, -1.37638536, ...,  1.73143706,\n",
       "         0.47518096,  0.47518096],\n",
       "       ...,\n",
       "       [-0.59825578, -0.59825578, -0.94825425, ...,  0.08299575,\n",
       "         0.08299575,  0.58455977],\n",
       "       [-0.07013383, -0.07013383, -0.07169786, ..., -0.15919557,\n",
       "        -0.15919557, -0.19044557],\n",
       "       [-1.31388536, -1.30450883, -1.30450883, ...,  2.21580825,\n",
       "         2.23768553,  2.23768553]])"
      ]
     },
     "execution_count": 31,
     "metadata": {},
     "output_type": "execute_result"
    }
   ],
   "source": [
    "X_train"
   ]
  },
  {
   "cell_type": "code",
   "execution_count": 34,
   "metadata": {},
   "outputs": [],
   "source": [
    "X_train = np.reshape(X_train, (X_train.shape[0], X_train.shape[1], 1))\n",
    "X_test = np.reshape(X_test, (X_test.shape[0], X_test.shape[1], 1))\n"
   ]
  },
  {
   "cell_type": "code",
   "execution_count": 56,
   "metadata": {},
   "outputs": [
    {
     "data": {
      "text/plain": [
       "array([[[ 1.37518248],\n",
       "        [ 1.37518248],\n",
       "        [-0.30763307],\n",
       "        ...,\n",
       "        [-1.3248221 ],\n",
       "        [-1.3248221 ],\n",
       "        [-0.30450883]],\n",
       "\n",
       "       [[ 1.37518248],\n",
       "        [-0.30763307],\n",
       "        [-0.30763307],\n",
       "        ...,\n",
       "        [-1.3248221 ],\n",
       "        [-0.30450883],\n",
       "        [-0.30450883]],\n",
       "\n",
       "       [[-0.30763307],\n",
       "        [-0.30763307],\n",
       "        [-0.34669557],\n",
       "        ...,\n",
       "        [-0.30450883],\n",
       "        [-0.30450883],\n",
       "        [ 0.75799117]],\n",
       "\n",
       "       ...,\n",
       "\n",
       "       [[ 0.36112151],\n",
       "        [ 0.56893096],\n",
       "        [ 0.56893096],\n",
       "        ...,\n",
       "        [ 0.77205596],\n",
       "        [ 0.81267867],\n",
       "        [ 0.81267867]],\n",
       "\n",
       "       [[ 0.56893096],\n",
       "        [ 0.56893096],\n",
       "        [ 0.71424803],\n",
       "        ...,\n",
       "        [ 0.81267867],\n",
       "        [ 0.81267867],\n",
       "        [ 0.75487075]],\n",
       "\n",
       "       [[ 0.56893096],\n",
       "        [ 0.71424803],\n",
       "        [ 0.71424803],\n",
       "        ...,\n",
       "        [ 0.81267867],\n",
       "        [ 0.75487075],\n",
       "        [ 0.75487075]]])"
      ]
     },
     "execution_count": 56,
     "metadata": {},
     "output_type": "execute_result"
    }
   ],
   "source": [
    "X_test"
   ]
  },
  {
   "cell_type": "code",
   "execution_count": 67,
   "metadata": {},
   "outputs": [],
   "source": [
    "# build model\n",
    "model = Sequential()\n",
    "layers = [1, 50, 100, 1]\n",
    "# layer1\n",
    "model.add(LSTM(layers[1], # number of outputs\n",
    "               input_shape=(None, 1),  # dimension of input\n",
    "               return_sequences=True))\n",
    "model.add(Dropout(0.2)) # 20% dropout\n"
   ]
  },
  {
   "cell_type": "code",
   "execution_count": 68,
   "metadata": {},
   "outputs": [],
   "source": [
    "# layer 2\n",
    "model.add(LSTM(layers[2], # number of outputs\n",
    "               return_sequences=False))\n",
    "model.add(Dropout(0.2)) # 20% dropout"
   ]
  },
  {
   "cell_type": "code",
   "execution_count": 69,
   "metadata": {},
   "outputs": [],
   "source": [
    "# layer 3\n",
    "model.add(Dense(layers[3])) # times a dense matrix\n",
    "model.add(Activation(\"linear\")) #linear regression"
   ]
  },
  {
   "cell_type": "code",
   "execution_count": 70,
   "metadata": {},
   "outputs": [
    {
     "name": "stdout",
     "output_type": "stream",
     "text": [
      "('Compilation Time: ', 0.04622006416320801)\n"
     ]
    }
   ],
   "source": [
    "start = time.time()\n",
    "model.compile(loss=\"mse\", optimizer=\"rmsprop\")\n",
    "print(\"Compilation Time: \", time.time() - start)"
   ]
  },
  {
   "cell_type": "code",
   "execution_count": 72,
   "metadata": {},
   "outputs": [
    {
     "name": "stderr",
     "output_type": "stream",
     "text": [
      "/Library/Frameworks/Python.framework/Versions/2.7/lib/python2.7/site-packages/ipykernel_launcher.py:5: UserWarning: The `nb_epoch` argument in `fit` has been renamed `epochs`.\n",
      "  \"\"\"\n"
     ]
    },
    {
     "name": "stdout",
     "output_type": "stream",
     "text": [
      "Train on 1131 samples, validate on 60 samples\n",
      "Epoch 1/30\n",
      "1131/1131 [==============================] - 2s 2ms/step - loss: 1.4907 - val_loss: 1.2046\n",
      "Epoch 2/30\n",
      "1131/1131 [==============================] - 0s 364us/step - loss: 1.4669 - val_loss: 1.1988\n",
      "Epoch 3/30\n",
      "1131/1131 [==============================] - 1s 492us/step - loss: 1.4288 - val_loss: 1.2073\n",
      "Epoch 4/30\n",
      "1131/1131 [==============================] - 0s 379us/step - loss: 1.4074 - val_loss: 1.1988\n",
      "Epoch 5/30\n",
      "1131/1131 [==============================] - 1s 491us/step - loss: 1.3775 - val_loss: 1.1989\n",
      "Epoch 6/30\n",
      "1131/1131 [==============================] - 0s 419us/step - loss: 1.3462 - val_loss: 1.1676\n",
      "Epoch 7/30\n",
      "1131/1131 [==============================] - 0s 381us/step - loss: 1.3354 - val_loss: 1.1502\n",
      "Epoch 8/30\n",
      "1131/1131 [==============================] - 0s 425us/step - loss: 1.3119 - val_loss: 1.1236\n",
      "Epoch 9/30\n",
      "1131/1131 [==============================] - 0s 433us/step - loss: 1.2941 - val_loss: 1.0999\n",
      "Epoch 10/30\n",
      "1131/1131 [==============================] - 1s 459us/step - loss: 1.2738 - val_loss: 1.0883\n",
      "Epoch 11/30\n",
      "1131/1131 [==============================] - 0s 414us/step - loss: 1.2556 - val_loss: 1.0711\n",
      "Epoch 12/30\n",
      "1131/1131 [==============================] - 0s 369us/step - loss: 1.2367 - val_loss: 1.0220\n",
      "Epoch 13/30\n",
      "1131/1131 [==============================] - 1s 463us/step - loss: 1.2091 - val_loss: 1.0039\n",
      "Epoch 14/30\n",
      "1131/1131 [==============================] - 0s 363us/step - loss: 1.1871 - val_loss: 0.9928\n",
      "Epoch 15/30\n",
      "1131/1131 [==============================] - 1s 510us/step - loss: 1.1710 - val_loss: 0.9730\n",
      "Epoch 16/30\n",
      "1131/1131 [==============================] - 0s 374us/step - loss: 1.1578 - val_loss: 0.9249\n",
      "Epoch 17/30\n",
      "1131/1131 [==============================] - 0s 421us/step - loss: 1.1430 - val_loss: 0.9057\n",
      "Epoch 18/30\n",
      "1131/1131 [==============================] - 0s 362us/step - loss: 1.1366 - val_loss: 0.8416\n",
      "Epoch 19/30\n",
      "1131/1131 [==============================] - 0s 361us/step - loss: 1.1143 - val_loss: 0.7997\n",
      "Epoch 20/30\n",
      "1131/1131 [==============================] - 0s 356us/step - loss: 1.1034 - val_loss: 0.7928\n",
      "Epoch 21/30\n",
      "1131/1131 [==============================] - 1s 480us/step - loss: 1.0842 - val_loss: 0.8361\n",
      "Epoch 22/30\n",
      "1131/1131 [==============================] - 0s 359us/step - loss: 1.0957 - val_loss: 0.7501\n",
      "Epoch 23/30\n",
      "1131/1131 [==============================] - 0s 421us/step - loss: 1.0611 - val_loss: 0.7183\n",
      "Epoch 24/30\n",
      "1131/1131 [==============================] - 0s 404us/step - loss: 1.0391 - val_loss: 0.6866\n",
      "Epoch 25/30\n",
      "1131/1131 [==============================] - 1s 506us/step - loss: 1.0288 - val_loss: 0.6971\n",
      "Epoch 26/30\n",
      "1131/1131 [==============================] - 0s 368us/step - loss: 1.0393 - val_loss: 0.6955\n",
      "Epoch 27/30\n",
      "1131/1131 [==============================] - 0s 412us/step - loss: 1.0425 - val_loss: 0.6906\n",
      "Epoch 28/30\n",
      "1131/1131 [==============================] - 0s 355us/step - loss: 1.0347 - val_loss: 0.6739\n",
      "Epoch 29/30\n",
      "1131/1131 [==============================] - 0s 353us/step - loss: 1.0085 - val_loss: 0.6443\n",
      "Epoch 30/30\n",
      "1131/1131 [==============================] - 0s 369us/step - loss: 0.9969 - val_loss: 0.6720\n"
     ]
    }
   ],
   "source": [
    "# run model\n",
    "data = None\n",
    "epochs = 30\n",
    "\n",
    "model.fit(X_train, y_train, batch_size=512, nb_epoch=epochs, validation_split=0.05)\n",
    "predicted = model.predict(X_test)"
   ]
  },
  {
   "cell_type": "code",
   "execution_count": 74,
   "metadata": {},
   "outputs": [
    {
     "data": {
      "text/plain": [
       "132"
      ]
     },
     "execution_count": 74,
     "metadata": {},
     "output_type": "execute_result"
    }
   ],
   "source": [
    "len(predicted)"
   ]
  },
  {
   "cell_type": "code",
   "execution_count": 88,
   "metadata": {},
   "outputs": [
    {
     "data": {
      "text/plain": [
       "array([-0.30450883,  0.75799117,  0.75799117, -1.29826036, -1.29826036,\n",
       "       -1.29669633, -1.29669633, -0.22794786, -0.22794786, -0.26701036,\n",
       "       -0.26701036,  0.4798654 ,  0.4798654 ,  0.65486464,  0.65486464,\n",
       "       -1.2545096 , -1.2545096 , -0.0904471 , -0.0904471 ,  0.38299117,\n",
       "        0.38299117, -0.10138383, -0.10138383, -1.26544633, -1.26544633,\n",
       "        0.21267638,  0.21267638, -1.12794938, -1.12794938, -1.24982133,\n",
       "       -1.24982133, -0.02013078, -0.02013078, -0.06856981, -0.06856981,\n",
       "        0.0111154 ,  0.0111154 ,  0.17205367,  0.17205367, -1.1295096 ,\n",
       "       -1.1295096 ,  0.05174193,  0.05174193, -0.14201036, -0.14201036,\n",
       "       -1.14669862, -1.14669862,  0.04705748,  0.04705748,  0.31424269,\n",
       "        0.31424269,  0.24080596,  0.24080596, -1.07638612, -1.07638612,\n",
       "       -1.07638231, -1.07638231, -0.93888536, -0.93888536,  0.36424193,\n",
       "        0.36424193, -0.90138307, -0.90138307,  0.37049422,  0.37049422,\n",
       "       -0.90763536, -0.90763536, -0.95919862, -0.95919862,  0.45799575,\n",
       "        0.45799575,  0.36580596,  0.36580596, -0.89825883, -0.89825883,\n",
       "        0.51580748,  0.51580748, -0.8013846 , -0.8013846 ,  0.56737075,\n",
       "        0.56737075, -0.74825731, -0.74825731, -0.83107057, -0.83107057,\n",
       "        0.57674346,  0.57674346,  0.59862075,  0.59862075, -0.71857133,\n",
       "       -0.71857133,  0.67830596,  0.67830596, -0.70919481, -0.70919481,\n",
       "        0.65799269,  0.65799269, -0.01544252, -0.01544252, -0.70607438,\n",
       "       -0.70607438,  1.06737075,  1.06737075,  0.7267488 ,  0.7267488 ,\n",
       "        0.12518248,  0.12518248,  0.78924498,  0.78924498,  0.36112151,\n",
       "        0.36112151,  0.56893096,  0.56893096,  0.71424803,  0.71424803,\n",
       "        0.51737151,  0.51737151,  0.62830672,  0.62830672,  0.49861846,\n",
       "        0.49861846,  0.91737303,  0.91737303,  0.71424422,  0.71424422,\n",
       "        0.77205596,  0.77205596,  0.81267867,  0.81267867,  0.75487075,\n",
       "        0.75487075,  0.80643019])"
      ]
     },
     "execution_count": 88,
     "metadata": {},
     "output_type": "execute_result"
    }
   ],
   "source": [
    "y_test"
   ]
  },
  {
   "cell_type": "code",
   "execution_count": 78,
   "metadata": {},
   "outputs": [
    {
     "data": {
      "text/plain": [
       "(132,)"
      ]
     },
     "execution_count": 78,
     "metadata": {},
     "output_type": "execute_result"
    }
   ],
   "source": [
    "y_test\n",
    "np.shape(y_test)"
   ]
  },
  {
   "cell_type": "code",
   "execution_count": 79,
   "metadata": {},
   "outputs": [],
   "source": [
    "predicted = np.reshape(predicted, (predicted.size,))"
   ]
  },
  {
   "cell_type": "code",
   "execution_count": 93,
   "metadata": {},
   "outputs": [],
   "source": [
    "plt.plot(predicted)\n",
    "plt.show()"
   ]
  },
  {
   "cell_type": "code",
   "execution_count": 95,
   "metadata": {},
   "outputs": [
    {
     "data": {
      "text/plain": [
       "-0.04964249266928856"
      ]
     },
     "execution_count": 95,
     "metadata": {},
     "output_type": "execute_result"
    }
   ],
   "source": [
    "np.mean(y_test)\n"
   ]
  },
  {
   "cell_type": "code",
   "execution_count": 96,
   "metadata": {},
   "outputs": [
    {
     "data": {
      "text/plain": [
       "-0.16728672"
      ]
     },
     "execution_count": 96,
     "metadata": {},
     "output_type": "execute_result"
    }
   ],
   "source": [
    "np.mean(predicted)"
   ]
  },
  {
   "cell_type": "code",
   "execution_count": 100,
   "metadata": {},
   "outputs": [
    {
     "name": "stdout",
     "output_type": "stream",
     "text": [
      "R-Squared: 0.227968\n"
     ]
    }
   ],
   "source": [
    "print('R-Squared: %f'%(r2_score(y_test, predicted)))"
   ]
  },
  {
   "cell_type": "code",
   "execution_count": 99,
   "metadata": {},
   "outputs": [],
   "source": [
    "from sklearn.metrics import r2_score\n"
   ]
  },
  {
   "cell_type": "code",
   "execution_count": null,
   "metadata": {},
   "outputs": [],
   "source": []
  }
 ],
 "metadata": {
  "kernelspec": {
   "display_name": "Python 2",
   "language": "python",
   "name": "python2"
  },
  "language_info": {
   "codemirror_mode": {
    "name": "ipython",
    "version": 2
   },
   "file_extension": ".py",
   "mimetype": "text/x-python",
   "name": "python",
   "nbconvert_exporter": "python",
   "pygments_lexer": "ipython2",
   "version": "2.7.13"
  }
 },
 "nbformat": 4,
 "nbformat_minor": 1
}
